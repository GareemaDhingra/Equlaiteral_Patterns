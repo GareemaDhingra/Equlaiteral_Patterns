{
  "nbformat": 4,
  "nbformat_minor": 0,
  "metadata": {
    "colab": {
      "name": "Equilateral_Pattern.ipynb",
      "provenance": []
    },
    "kernelspec": {
      "name": "python3",
      "display_name": "Python 3"
    },
    "language_info": {
      "name": "python"
    }
  },
  "cells": [
    {
      "cell_type": "markdown",
      "metadata": {
        "id": "chcbTXVn-kM2"
      },
      "source": [
        "# 1st Method"
      ]
    },
    {
      "cell_type": "markdown",
      "metadata": {
        "id": "55vYdNy4Xvta"
      },
      "source": [
        "To make an equilateral traingle in python, we need to have three loops,\n",
        "1. For maintaining rows\n",
        "2. For maintaining spaces so it looks like an equilateral traingle\n",
        "3. For maintaing columns and printing the required varaible"
      ]
    },
    {
      "cell_type": "code",
      "metadata": {
        "colab": {
          "base_uri": "https://localhost:8080/"
        },
        "id": "8N5XjnnA-DBq",
        "outputId": "bf1c76e3-93f0-4c5a-c753-887c85a982b7"
      },
      "source": [
        "#Pattern 1\n",
        "rows=int(input('Number of rows:'))\n",
        "k=rows\n",
        "for i in range(rows+1): #outer loop for rows\n",
        "  for y in range(k): #inner loop 1 for spaces \n",
        "    print(end=' ')\n",
        "  k=k-1\n",
        "  for y in range(i): #inner loop 2 for printing numbers\n",
        "    print(y+1,end=' ') #here we increment the number\n",
        "  print()"
      ],
      "execution_count": null,
      "outputs": [
        {
          "output_type": "stream",
          "text": [
            "Number of rows:4\n",
            "    \n",
            "   1 \n",
            "  1 2 \n",
            " 1 2 3 \n",
            "1 2 3 4 \n"
          ],
          "name": "stdout"
        }
      ]
    },
    {
      "cell_type": "code",
      "metadata": {
        "colab": {
          "base_uri": "https://localhost:8080/"
        },
        "id": "WiMM8te5-Rfh",
        "outputId": "b7f852db-1f69-4b13-e30a-f55103c1f652"
      },
      "source": [
        "#Pattern 2\n",
        "rows=int(input('Number of rows:'))\n",
        "k=rows\n",
        "for i in range(rows+1): #outer loop for rows\n",
        "  for y in range(k): #inner loop 1 for spaces\n",
        "    print(end=' ') \n",
        "  k=k-1\n",
        "  for y in range(i): #inner loop 2 for printing numbers\n",
        "    print(i,end=' ') #here we are just printing the number of rows\n",
        "  print()"
      ],
      "execution_count": null,
      "outputs": [
        {
          "output_type": "stream",
          "text": [
            "Number of rows:4\n",
            "    \n",
            "   1 \n",
            "  2 2 \n",
            " 3 3 3 \n",
            "4 4 4 4 \n"
          ],
          "name": "stdout"
        }
      ]
    },
    {
      "cell_type": "code",
      "metadata": {
        "colab": {
          "base_uri": "https://localhost:8080/"
        },
        "id": "CB4ysJ8p31b0",
        "outputId": "77f7c8ff-7a17-46fb-edf3-c3295c193692"
      },
      "source": [
        "#Pattern 3\n",
        "rows=int(input('Number of rows:'))\n",
        "k=rows\n",
        "for i in range(65, 65+rows): #outer loop for rows\n",
        "  for y in range(k): #inner loop 1 for spaces\n",
        "    print(end=' ')\n",
        "  k=k-1\n",
        "  for y in range(65, i+1): #inner loop 2 for printing numbers\n",
        "    print(chr(y),end=' ') #here we are printing the  upper case letters using ascii values, incrementing in every row\n",
        "  print()"
      ],
      "execution_count": null,
      "outputs": [
        {
          "output_type": "stream",
          "text": [
            "Number of rows:3\n",
            "   A \n",
            "  A B \n",
            " A B C \n"
          ],
          "name": "stdout"
        }
      ]
    },
    {
      "cell_type": "code",
      "metadata": {
        "colab": {
          "base_uri": "https://localhost:8080/"
        },
        "id": "beimjgtfKLQT",
        "outputId": "c3eebfda-fd8d-468f-9b69-0bdc5201832a"
      },
      "source": [
        "#Pattern 4\n",
        "rows=int(input('Number of rows:'))\n",
        "k=rows\n",
        "for i in range(rows+1): #outer loop for rows\n",
        "  for y in range(k): #inner loop 1 for spaces\n",
        "    print(end=' ')\n",
        "  k=k-1\n",
        "  for y in range(i): #inner loop 2 for printing numbers\n",
        "    print(chr(64+i),end=' ') #here we are printing the upper case letters using ascii values, incrementing once per row\n",
        "  print() "
      ],
      "execution_count": null,
      "outputs": [
        {
          "output_type": "stream",
          "text": [
            "Number of rows:6\n",
            "      \n",
            "     A \n",
            "    B B \n",
            "   C C C \n",
            "  D D D D \n",
            " E E E E E \n",
            "F F F F F F \n"
          ],
          "name": "stdout"
        }
      ]
    },
    {
      "cell_type": "code",
      "metadata": {
        "colab": {
          "base_uri": "https://localhost:8080/"
        },
        "id": "2OBLQXFc31uY",
        "outputId": "1efd3b3d-b8a7-4261-9d4b-d8439e7b2baf"
      },
      "source": [
        "#Pattern 5\n",
        "rows=int(input('Number of rows:'))\n",
        "k=rows\n",
        "for i in range(97, 97+rows): #outer loop for rows\n",
        "  for y in range(k): #inner loop 1 for spaces\n",
        "    print(end=' ')\n",
        "  k=k-1\n",
        "  for y in range(97, i+1): #inner loop 2 for printing numbers\n",
        "    print(chr(y),end=' ') #here we are printing the lower case letters using ascii values, incrementing in every row\n",
        "  print()"
      ],
      "execution_count": null,
      "outputs": [
        {
          "output_type": "stream",
          "text": [
            "Number of rows:3\n",
            "   a \n",
            "  a b \n",
            " a b c \n"
          ],
          "name": "stdout"
        }
      ]
    },
    {
      "cell_type": "code",
      "metadata": {
        "colab": {
          "base_uri": "https://localhost:8080/"
        },
        "id": "HeApqjS9KjmX",
        "outputId": "1bfd27a8-4000-4d74-ea76-8d69bd7f8a4b"
      },
      "source": [
        "#Pattern 6\n",
        "rows=int(input('Number of rows:'))\n",
        "k=rows\n",
        "for i in range(rows+1): #outer loop for rows\n",
        "  for y in range(k): #inner loop 1 for spaces\n",
        "    print(end=' ')\n",
        "  k=k-1 \n",
        "  for y in range(i): #inner loop 2 for printing numbers\n",
        "    print(chr(96+i),end=' ') #here we are printing the lower case letters using ascii values, incrementing once per row\n",
        "  print()"
      ],
      "execution_count": null,
      "outputs": [
        {
          "output_type": "stream",
          "text": [
            "Number of rows:5\n",
            "     \n",
            "    a \n",
            "   b b \n",
            "  c c c \n",
            " d d d d \n",
            "e e e e e \n"
          ],
          "name": "stdout"
        }
      ]
    },
    {
      "cell_type": "code",
      "metadata": {
        "colab": {
          "base_uri": "https://localhost:8080/"
        },
        "id": "Z1WTzIbj5KhR",
        "outputId": "ec61ebfa-7f6a-490d-9ba9-9800fcf085f7"
      },
      "source": [
        "#Pattern 7\n",
        "rows=int(input('Number of rows:'))\n",
        "k=rows\n",
        "for i in range(rows+1): #outer loop for rows\n",
        "  for y in range(k): #inner loop 1 for spaces\n",
        "    print(end=' ')\n",
        "  k=k-1\n",
        "  for y in range(i): #inner loop 2 for printing numbers\n",
        "    print('*',end=' ') #here we are printing asterisk \n",
        "  print()"
      ],
      "execution_count": null,
      "outputs": [
        {
          "output_type": "stream",
          "text": [
            "Number of rows:5\n",
            "     \n",
            "    * \n",
            "   * * \n",
            "  * * * \n",
            " * * * * \n",
            "* * * * * \n"
          ],
          "name": "stdout"
        }
      ]
    },
    {
      "cell_type": "markdown",
      "metadata": {
        "id": "LotHixoO-jA9"
      },
      "source": [
        "#2nd Method\n"
      ]
    },
    {
      "cell_type": "markdown",
      "metadata": {
        "id": "N3_NON8UL0_2"
      },
      "source": [
        "Here, instead of two loops we are using only one loop. But there are some patterns we can't create using this method.\n",
        "We have used i as the loop variable and decremented k inside the loop.  "
      ]
    },
    {
      "cell_type": "code",
      "metadata": {
        "colab": {
          "base_uri": "https://localhost:8080/"
        },
        "id": "sloZtHft-Aw-",
        "outputId": "737d8139-9ef0-47cc-e1e8-5261ea4f184a"
      },
      "source": [
        "#Pattern 2(b)\n",
        "k=int(input('Number of rows:'))\n",
        "for i in range(k+1):\n",
        "    print(' '*k, end='') # repeat space for n times\n",
        "    print((str(i)+' ')*(i)) # repeats the i for i times\n",
        "    #print('')\n",
        "    k-=1"
      ],
      "execution_count": null,
      "outputs": [
        {
          "output_type": "stream",
          "text": [
            "Number of rows:4\n",
            "    \n",
            "   1 \n",
            "  2 2 \n",
            " 3 3 3 \n",
            "4 4 4 4 \n"
          ],
          "name": "stdout"
        }
      ]
    },
    {
      "cell_type": "code",
      "metadata": {
        "colab": {
          "base_uri": "https://localhost:8080/"
        },
        "id": "CTbuQAnd8Mvx",
        "outputId": "70f65467-3a32-4c66-8f57-3a6fcaa49a4e"
      },
      "source": [
        "#Pattern 4(b)\n",
        "k=int(input('Number of rows:'))\n",
        "for i in range(k+1):\n",
        "    print(' '*k, end='') # repeat space for n times\n",
        "    print((chr(64+i)+' ')*(i)) # repeats the alphabet we got from ascii value for i times\n",
        "    #print('')\n",
        "    k-=1"
      ],
      "execution_count": null,
      "outputs": [
        {
          "output_type": "stream",
          "text": [
            "Number of rows:4\n",
            "    \n",
            "   A \n",
            "  B B \n",
            " C C C \n",
            "D D D D \n"
          ],
          "name": "stdout"
        }
      ]
    },
    {
      "cell_type": "code",
      "metadata": {
        "colab": {
          "base_uri": "https://localhost:8080/"
        },
        "id": "VOLkUYxG-0Ot",
        "outputId": "1ad7f5d3-7ad9-4e06-a1b8-b90dd0684e46"
      },
      "source": [
        "#Pattern 6(b)\n",
        "k=int(input('Number of rows:'))\n",
        "for i in range(k+1):\n",
        "    print(' '*k, end='') # repeat space for n times\n",
        "    print((chr(96+i)+' ')*(i)) # repeats the alphabet we got from ascii value for i times\n",
        "    #print('')\n",
        "    k-=1"
      ],
      "execution_count": null,
      "outputs": [
        {
          "output_type": "stream",
          "text": [
            "Number of rows:4\n",
            "    \n",
            "   a \n",
            "  b b \n",
            " c c c \n",
            "d d d d \n"
          ],
          "name": "stdout"
        }
      ]
    },
    {
      "cell_type": "code",
      "metadata": {
        "colab": {
          "base_uri": "https://localhost:8080/"
        },
        "id": "7XQ1Murm65ij",
        "outputId": "a47a9524-e3ea-4ab9-8b89-0250664867c5"
      },
      "source": [
        "#Pattern 8\n",
        "k=int(input('Number of rows:'))\n",
        "for i in range(k+1):\n",
        "    print(' '*k, end='') # repeat space for n times\n",
        "    print('@ '*(i)) # repeat @ for i times\n",
        "    k-=1"
      ],
      "execution_count": null,
      "outputs": [
        {
          "output_type": "stream",
          "text": [
            "Number of rows:4\n",
            "    \n",
            "   @ \n",
            "  @ @ \n",
            " @ @ @ \n",
            "@ @ @ @ \n"
          ],
          "name": "stdout"
        }
      ]
    }
  ]
}